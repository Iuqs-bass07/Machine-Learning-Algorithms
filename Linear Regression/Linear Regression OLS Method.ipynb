{
 "cells": [
  {
   "cell_type": "markdown",
   "id": "1cc0e5ae",
   "metadata": {},
   "source": [
    "### Linear Regression (Ordinary Linear System (OLS) METHOD)\n",
    "\n",
    "This approach varies from the gradient descent it focusses solely on the matrix manipulation and the differential of the error then finding out the coefficient matrix (Beta)\n",
    "\n",
    "The coefficient matrix can be calculated as:\n",
    "   ###                                       beta = np.linalg.inv(np.dot(X.T, X)).dot(X.T).dot(Y)\n",
    "\n",
    "Here X is little bit modified as 1 is inserted in from of the all rows of X and Y is the final Y pred\n",
    "\n",
    "NOW we wil write the linear OLS Regressor class and then validate it with the Sklearn Linear Regressor Class and match the result"
   ]
  },
  {
   "cell_type": "code",
   "execution_count": 63,
   "id": "69875578",
   "metadata": {},
   "outputs": [],
   "source": [
    "import numpy as np\n",
    "import pandas as pd\n",
    "from sklearn.datasets import load_diabetes\n",
    "from sklearn.model_selection import train_test_split"
   ]
  },
  {
   "cell_type": "code",
   "execution_count": 64,
   "id": "ff339f38",
   "metadata": {},
   "outputs": [],
   "source": [
    "class MyLinearRegressor:\n",
    "    \n",
    "    def __init(self):\n",
    "        self.coef_ = None\n",
    "        self.intercept = None\n",
    "    \n",
    "    def fit(self, X_train, y_train):\n",
    "        \n",
    "        X_train = np.insert(X_train, 0, 1, axis = 1) # It will insert 1 in front of the all rows of X_train\n",
    "        beta = np.linalg.inv(np.dot(X_train.T, X_train)).dot(X_train.T).dot(y_train) # Calculation of the beta derived previously\n",
    "        \n",
    "        self.intercept= beta[0];\n",
    "        self.coef_ = beta[1:];\n",
    "    \n",
    "    def predict(self, X_test):\n",
    "        \n",
    "        y_pred = np.dot(X_test, self.coef_) + self.intercept\n",
    "        return y_pred\n",
    "        "
   ]
  },
  {
   "cell_type": "code",
   "execution_count": 65,
   "id": "f57da85d",
   "metadata": {},
   "outputs": [],
   "source": [
    "lr = MyLinearRegressor()"
   ]
  },
  {
   "cell_type": "code",
   "execution_count": 66,
   "id": "7e82c8d0",
   "metadata": {},
   "outputs": [],
   "source": [
    "X, y = load_diabetes(return_X_y=True)"
   ]
  },
  {
   "cell_type": "code",
   "execution_count": 67,
   "id": "709b8607",
   "metadata": {},
   "outputs": [],
   "source": [
    "X_train, X_test, y_train, y_test = train_test_split(X, y, test_size=0.2)"
   ]
  },
  {
   "cell_type": "code",
   "execution_count": 68,
   "id": "657f5a63",
   "metadata": {},
   "outputs": [
    {
     "data": {
      "text/plain": [
       "((353, 10), (89, 10))"
      ]
     },
     "execution_count": 68,
     "metadata": {},
     "output_type": "execute_result"
    }
   ],
   "source": [
    "X_train.shape, X_test.shape"
   ]
  },
  {
   "cell_type": "code",
   "execution_count": 69,
   "id": "78786ed9",
   "metadata": {},
   "outputs": [],
   "source": [
    "lr.fit(X_train, y_train)"
   ]
  },
  {
   "cell_type": "code",
   "execution_count": 70,
   "id": "3c105c56",
   "metadata": {},
   "outputs": [],
   "source": [
    "y_pred = lr.predict(X_test)"
   ]
  },
  {
   "cell_type": "code",
   "execution_count": 71,
   "id": "19eae9eb",
   "metadata": {},
   "outputs": [
    {
     "data": {
      "text/plain": [
       "0.29876542442757315"
      ]
     },
     "execution_count": 71,
     "metadata": {},
     "output_type": "execute_result"
    }
   ],
   "source": [
    "from sklearn.metrics import r2_score\n",
    "r2_score(y_pred, y_test)"
   ]
  },
  {
   "cell_type": "code",
   "execution_count": null,
   "id": "818b462c",
   "metadata": {},
   "outputs": [],
   "source": []
  },
  {
   "cell_type": "code",
   "execution_count": null,
   "id": "b41a1bae",
   "metadata": {},
   "outputs": [],
   "source": []
  },
  {
   "cell_type": "markdown",
   "id": "6f18e4f2",
   "metadata": {},
   "source": [
    "## Sklearn Linear Model"
   ]
  },
  {
   "cell_type": "code",
   "execution_count": 72,
   "id": "07286239",
   "metadata": {},
   "outputs": [],
   "source": [
    "from sklearn.linear_model import LinearRegression"
   ]
  },
  {
   "cell_type": "code",
   "execution_count": 73,
   "id": "a9e73c88",
   "metadata": {},
   "outputs": [],
   "source": [
    "reg = LinearRegression()"
   ]
  },
  {
   "cell_type": "code",
   "execution_count": 74,
   "id": "83e2bfc0",
   "metadata": {},
   "outputs": [
    {
     "data": {
      "text/plain": [
       "LinearRegression()"
      ]
     },
     "execution_count": 74,
     "metadata": {},
     "output_type": "execute_result"
    }
   ],
   "source": [
    "reg.fit(X_train, y_train)"
   ]
  },
  {
   "cell_type": "code",
   "execution_count": 75,
   "id": "1afa0345",
   "metadata": {},
   "outputs": [
    {
     "data": {
      "text/plain": [
       "0.2987654244275716"
      ]
     },
     "execution_count": 75,
     "metadata": {},
     "output_type": "execute_result"
    }
   ],
   "source": [
    "y_pred = reg.predict(X_test)\n",
    "r2_score(y_pred, y_test)"
   ]
  },
  {
   "cell_type": "markdown",
   "id": "99e6a41c",
   "metadata": {},
   "source": [
    "### We can clearly see that the both of the r2_score are same & can say that our implementation is good\n",
    "### But in real life we refrain from using the OLS Method beacuse in this we caluclate the coefficient using inverse operation and that is computationally very heavy. Hence we move forward to using gradient descent approach "
   ]
  },
  {
   "cell_type": "code",
   "execution_count": null,
   "id": "851cb4e3",
   "metadata": {},
   "outputs": [],
   "source": []
  }
 ],
 "metadata": {
  "kernelspec": {
   "display_name": "Python 3 (ipykernel)",
   "language": "python",
   "name": "python3"
  },
  "language_info": {
   "codemirror_mode": {
    "name": "ipython",
    "version": 3
   },
   "file_extension": ".py",
   "mimetype": "text/x-python",
   "name": "python",
   "nbconvert_exporter": "python",
   "pygments_lexer": "ipython3",
   "version": "3.9.13"
  }
 },
 "nbformat": 4,
 "nbformat_minor": 5
}
